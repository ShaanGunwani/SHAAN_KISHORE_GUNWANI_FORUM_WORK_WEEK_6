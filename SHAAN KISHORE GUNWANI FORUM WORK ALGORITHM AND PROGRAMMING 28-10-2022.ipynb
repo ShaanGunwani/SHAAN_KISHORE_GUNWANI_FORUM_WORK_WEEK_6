{
 "cells": [
  {
   "cell_type": "code",
   "execution_count": 1,
   "id": "f01e2615",
   "metadata": {},
   "outputs": [
    {
     "name": "stdout",
     "output_type": "stream",
     "text": [
      "{'gold': 550, 'pouch': ['flint', 'twine', 'gemstone'], 'backpack': ['bedroll', 'bread loaf', 'xylophone'], 'pocket': ['seashell', 'strange berry', 'lint']}\n"
     ]
    }
   ],
   "source": [
    "inventory = {\n",
    "    'gold': 500,\n",
    "    'pouch' : ['flint','twine','gemstone'],\n",
    "    'backpack' : ['xylophone','dagger','bedroll','bread loaf']\n",
    "}\n",
    "\n",
    "inventory['pocket'] = ['seashell','strange berry','lint']\n",
    "inventory['backpack'].sort()\n",
    "inventory['backpack'].remove('dagger')\n",
    "inventory['gold'] += 50\n",
    "print(inventory)"
   ]
  },
  {
   "cell_type": "code",
   "execution_count": 2,
   "id": "954336cb",
   "metadata": {},
   "outputs": [
    {
     "name": "stdout",
     "output_type": "stream",
     "text": [
      "banana\n",
      "price: 4\n",
      "stock: 6\n",
      "apple\n",
      "price: 2\n",
      "stock: 2\n",
      "orange\n",
      "price: 1.5\n",
      "stock: 5\n",
      "pear\n",
      "price: 3\n",
      "stock: 7\n",
      "banana\n",
      "24\n",
      "apple\n",
      "4\n",
      "orange\n",
      "7.5\n",
      "pear\n",
      "21\n",
      "the total is: 56.5\n"
     ]
    }
   ],
   "source": [
    "prices = {\n",
    "\"banana\": 4,\n",
    "\"apple\": 2,\n",
    "\"orange\": 1.5,\n",
    "\"pear\": 3\n",
    "}\n",
    "\n",
    "stock = {\n",
    "    \"banana\": 6,\n",
    "    \"apple\": 2,\n",
    "    \"orange\": 5,\n",
    "    \"pear\": 7\n",
    "}\n",
    "\n",
    "for i in prices:\n",
    "    print(i)\n",
    "    print(\"price:\", prices[i])\n",
    "    print(\"stock:\", stock[i])\n",
    "\n",
    "total = 0\n",
    "\n",
    "for i in prices:\n",
    "    print(i)\n",
    "    total_things = prices[i] * stock[i]\n",
    "    print(total_things)\n",
    "    total = total + total_things\n",
    "\n",
    "print(\"the total is:\", (total))"
   ]
  },
  {
   "cell_type": "code",
   "execution_count": 3,
   "id": "847c8403",
   "metadata": {},
   "outputs": [
    {
     "name": "stdout",
     "output_type": "stream",
     "text": [
      "The total is: 5.5\n"
     ]
    }
   ],
   "source": [
    "groceries = [\"banana\",\"orange\", \"apple\"]\n",
    "\n",
    "stock = {\n",
    " \"banana\": 6,\n",
    " \"apple\": 0,\n",
    " \"orange\": 32,\n",
    " \"pear\": 15\n",
    "}\n",
    "prices = {\n",
    " \"banana\": 4,\n",
    " \"apple\": 2,\n",
    " \"orange\": 1.5,\n",
    " \"pear\": 3\n",
    "}\n",
    "\n",
    "def compute_bill(food):\n",
    "    total = 0\n",
    "    for item in food:\n",
    "        if stock[item] > 0:\n",
    "            total += prices[item]\n",
    "            stock[item] -= 1\n",
    "    print(\"The total is:\", total)\n",
    "\n",
    "compute_bill(groceries)\n"
   ]
  },
  {
   "cell_type": "code",
   "execution_count": 4,
   "id": "d697d3f8",
   "metadata": {},
   "outputs": [
    {
     "name": "stdout",
     "output_type": "stream",
     "text": [
      "name: Eren\n",
      "homeworks: [90.0, 97.0, 75.0, 92.0]\n",
      "quizzes: [88.0, 40.0, 94.0]\n",
      "tests: [75.0, 90.0] \n",
      "\n",
      "name: Mikasa\n",
      "homeworks: [100.0, 92.0, 98.0, 100.0]\n",
      "quizzes: [82.0, 83.0, 91.0]\n",
      "tests: [89.0, 97.0] \n",
      "\n",
      "name: Armin\n",
      "homeworks: [0.0, 87.0, 75.0, 22.0]\n",
      "quizzes: [0.0, 75.0, 78.0]\n",
      "tests: [100.0, 100.0] \n",
      "\n",
      "Letter grade for Lloyd =  C\n",
      "The whole class average = 83.86666666666666\n",
      "Therefore, the letter grade for this class is  B\n"
     ]
    }
   ],
   "source": [
    "eren = {\n",
    " \"name\": \"Eren\",\n",
    " \"homework\": [90.0,97.0,75.0,92.0],\n",
    " \"quizzes\": [88.0,40.0,94.0],\n",
    " \"tests\": [75.0,90.0]\n",
    "}\n",
    "mikasa = {\n",
    "\"name\": \"Mikasa\",\n",
    "\"homework\": [100.0, 92.0, 98.0, 100.0],\n",
    "\"quizzes\": [82.0, 83.0, 91.0],\n",
    "\"tests\": [89.0, 97.0]\n",
    "}\n",
    "armin = {\n",
    "\"name\": \"Armin\",\n",
    "\"homework\": [0.0, 87.0, 75.0, 22.0],\n",
    "\"quizzes\": [0.0, 75.0, 78.0],\n",
    "\"tests\": [100.0, 100.0]\n",
    "}\n",
    "students = [eren,mikasa,armin]\n",
    "for student in students:\n",
    "    print(\"name:\", student[\"name\"])\n",
    "    print(\"homeworks:\", student[\"homework\"])\n",
    "    print(\"quizzes:\", student[\"quizzes\"])\n",
    "    print(\"tests:\", student[\"tests\"], \"\\n\")\n",
    "def average(numbers):\n",
    "    total = float(sum(numbers))\n",
    "    average = total / len(numbers)\n",
    "    return average\n",
    "def get_average(student):\n",
    "    homework = average(student[\"homework\"])\n",
    "    quizzes = average(student[\"quizzes\"])\n",
    "    tests = average(student[\"tests\"])\n",
    "    weight = (0.1 * homework) + (0.3 * quizzes) + (0.6 * tests)\n",
    "    return weight\n",
    "def get_letter_grade(score):\n",
    "    if score >= 90:\n",
    "        return \"A\"\n",
    "    elif score >= 80:\n",
    "        return \"B\"\n",
    "    elif score >= 70:\n",
    "        return \"C\"\n",
    "    elif score >= 60:\n",
    "        return \"D\"\n",
    "    else:\n",
    "        return \"F\"\n",
    "lloyd = {\n",
    "  \"name\": \"Lloyd\",\n",
    "  \"homework\": [0.0, 87.0, 75.0, 22.0],\n",
    "  \"quizzes\": [0.0, 75.0, 78.0],\n",
    "  \"tests\": [100.0, 100.0]}\n",
    "print(\"Letter grade for Lloyd = \", get_letter_grade(get_average(lloyd)))\n",
    "def get_class_average(students):\n",
    "    results = []\n",
    "    for student in students:\n",
    "        results.append(get_average(student))\n",
    "    return average(results)\n",
    "print(\"The whole class average =\", get_class_average(students))\n",
    "print(\"Therefore, the letter grade for this class is \", get_letter_grade(get_class_average(students)))"
   ]
  },
  {
   "cell_type": "code",
   "execution_count": null,
   "id": "cc92ea29",
   "metadata": {},
   "outputs": [],
   "source": []
  }
 ],
 "metadata": {
  "kernelspec": {
   "display_name": "Python 3 (ipykernel)",
   "language": "python",
   "name": "python3"
  },
  "language_info": {
   "codemirror_mode": {
    "name": "ipython",
    "version": 3
   },
   "file_extension": ".py",
   "mimetype": "text/x-python",
   "name": "python",
   "nbconvert_exporter": "python",
   "pygments_lexer": "ipython3",
   "version": "3.9.12"
  }
 },
 "nbformat": 4,
 "nbformat_minor": 5
}
